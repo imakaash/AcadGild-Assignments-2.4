{
 "cells": [
  {
   "cell_type": "code",
   "execution_count": 10,
   "metadata": {},
   "outputs": [
    {
     "name": "stdout",
     "output_type": "stream",
     "text": [
      "Enter side 1: 4\n",
      "Enter side 2: 4\n",
      "Enter side 3: 4\n",
      "6.928203230275509\n"
     ]
    }
   ],
   "source": [
    "class Triangle:        \n",
    "    def parameters(self):\n",
    "        a = int(input(\"Enter side 1: \"))\n",
    "        b = int(input(\"Enter side 2: \"))\n",
    "        c = int(input(\"Enter side 3: \"))\n",
    "        self.a = a\n",
    "        self.b = b\n",
    "        self.c = c\n",
    "        \n",
    "class Area(Triangle):\n",
    "    def calc_area(self):\n",
    "        s=0\n",
    "        area =0\n",
    "        s=(self.a+self.b+self.c)/2\n",
    "        area = (s*(s-self.a)*(s-self.b)*(s-self.c)) ** 0.5\n",
    "        return area\n",
    "\n",
    "out = Area()\n",
    "out.parameters()\n",
    "print(out.calc_area())"
   ]
  },
  {
   "cell_type": "code",
   "execution_count": 1,
   "metadata": {},
   "outputs": [
    {
     "name": "stdout",
     "output_type": "stream",
     "text": [
      "Enter the number of words you want to add to the list 5\n",
      "Enter the word cat\n",
      "Enter the word dog\n",
      "Enter the word elephant\n",
      "Enter the word giraffe\n",
      "Enter the word austrich\n",
      "Enter value of comparator 3\n",
      "list of words that are longer than number are:\n",
      "elephant\n",
      "giraffe\n",
      "austrich\n"
     ]
    }
   ],
   "source": [
    "def filter_long_words(lst,n):\n",
    "    output = []\n",
    "    for i in range(len(lst)):\n",
    "        length = len(lst[i])\n",
    "        if length > n:\n",
    "            output.append(lst[i])\n",
    "\n",
    "    return output        \n",
    "        \n",
    "inp = int(input(\"Enter the number of words you want to add to the list \"))\n",
    "inp_lst = []\n",
    "for i in range(inp):\n",
    "    word = input(\"Enter the word \")\n",
    "    inp_lst.append(word)\n",
    "number = int(input(\"Enter value of comparator \"))\n",
    "answer = filter_long_words(inp_lst,number)\n",
    "print('list of words that are longer than number are:')\n",
    "for j in range(len(answer)):\n",
    "    print(answer[j]) "
   ]
  }
 ],
 "metadata": {
  "kernelspec": {
   "display_name": "Python 3",
   "language": "python",
   "name": "python3"
  },
  "language_info": {
   "codemirror_mode": {
    "name": "ipython",
    "version": 3
   },
   "file_extension": ".py",
   "mimetype": "text/x-python",
   "name": "python",
   "nbconvert_exporter": "python",
   "pygments_lexer": "ipython3",
   "version": "3.6.4"
  }
 },
 "nbformat": 4,
 "nbformat_minor": 2
}
